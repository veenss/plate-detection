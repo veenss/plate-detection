{
 "cells": [
  {
   "cell_type": "code",
   "execution_count": 44,
   "metadata": {},
   "outputs": [],
   "source": [
    "import sys\n",
    "import config\n",
    "from tensorflow.keras.applications import VGG16\n",
    "from tensorflow.keras.layers import Flatten\n",
    "from tensorflow.keras.layers import Dense\n",
    "from tensorflow.keras.layers import Input\n",
    "from tensorflow.keras.models import Model\n",
    "from tensorflow.keras.optimizers import Adam\n",
    "from tensorflow.keras.preprocessing.image import img_to_array\n",
    "from tensorflow.keras.preprocessing.image import load_img\n",
    "from sklearn.model_selection import train_test_split\n",
    "import matplotlib.pyplot as plt\n",
    "import numpy as np\n",
    "import cv2\n",
    "import os"
   ]
  },
  {
   "cell_type": "code",
   "execution_count": 45,
   "metadata": {},
   "outputs": [
    {
     "name": "stdout",
     "output_type": "stream",
     "text": [
      "[INFO] loading dataset...\n"
     ]
    }
   ],
   "source": [
    "print(\"[INFO] loading dataset...\")\n",
    "rows = open(config.ANNOTS_PATH, encoding='utf-8-sig').read().strip().split(\"\\n\")\n",
    "\n",
    "data = []\n",
    "targets = []\n",
    "filenames = []"
   ]
  },
  {
   "cell_type": "code",
   "execution_count": 46,
   "metadata": {},
   "outputs": [
    {
     "data": {
      "text/plain": [
       "['h2213nj_1.jpg,263,778,592,917',\n",
       " 'h2213nj_2.jpg,185,753,417,851',\n",
       " 'h2213nj_3.jpg,480,612,828,813',\n",
       " 'h2213nj_4.jpg,484,422,819,616',\n",
       " 'h2213nj_5.jpg,277,602,632,773',\n",
       " 'h2213nj_6.jpg,340,579,713,748',\n",
       " 'h2213nj_7.jpg,426,652,795,779',\n",
       " 'h2213nj_8.jpg,332,649,668,795',\n",
       " 'h2213nj_9.jpg,255,649,558,786',\n",
       " 'h5560yq_1.jpg,257,311,892,717',\n",
       " 'h5560yq_2.jpg,197,681,830,948',\n",
       " 'h6314wi_1.jpg,196,686,492,804',\n",
       " 'h6314wi_2.jpg,281,580,696,751',\n",
       " 'h6314wi_3.jpg,315,745,727,1057',\n",
       " 'h6314wi_4.jpg,222,731,513,949',\n",
       " 'h6314wi_4_crop.jpg,173,194,463,412',\n",
       " 'h6314wi_5.jpg,287,540,755,763',\n",
       " 'h6314wi_6.jpg,307,534,687,694',\n",
       " 'h6314wi_7.jpg,212,595,588,781',\n",
       " 'h6314wi_8.jpg,393,821,870,1108',\n",
       " 'h6379nw_1.jpg,123,452,782,853',\n",
       " 'h6379nw_2.jpg,316,354,1009,653',\n",
       " 'h6176ol_1.jpg,506,851,898,1117',\n",
       " 'h6176ol_2.jpg,500,797,829,1015',\n",
       " 'h6176ol_3.jpg,150,578,742,948',\n",
       " 'h6176ol_4.jpg,280,428,655,788']"
      ]
     },
     "execution_count": 46,
     "metadata": {},
     "output_type": "execute_result"
    }
   ],
   "source": [
    "rows"
   ]
  },
  {
   "cell_type": "code",
   "execution_count": 47,
   "metadata": {},
   "outputs": [],
   "source": [
    "# loop over the rows\n",
    "for row in rows:\n",
    "\t# break the row into the filename and bounding box coordinates\n",
    "\trow = row.split(\",\")\n",
    "\t(filename, startX, startY, endX, endY) = row\n",
    "\n",
    "\timagePath = os.path.sep.join([config.IMAGES_PATH, filename])\n",
    "\timage = cv2.imread(imagePath)\n",
    "\n",
    "\t# if image is None:\n",
    "\t# \tprint(f\"Error: Unable to read image{imagePath}\")\n",
    "\t# continue\n",
    "\n",
    "\t(h, w) = image.shape[:2]\n",
    "\n",
    "\t# scale the bounding box coordinates relative to the spatial\n",
    "\t# dimensions of the input image\n",
    "\tstartX = float(startX) / w\n",
    "\tstartY = float(startY) / h\n",
    "\tendX = float(endX) / w\n",
    "\tendY = float(endY) / h\n",
    "\n",
    "\t# load the image and preprocess it\n",
    "\timage = load_img(imagePath, target_size=(224, 224))\n",
    "\timage = img_to_array(image)\n",
    "\n",
    "\t# update our list of data, targets, and filenames\n",
    "\tdata.append(image)\n",
    "\ttargets.append((startX, startY, endX, endY))\n",
    "\tfilenames.append(filename)"
   ]
  },
  {
   "cell_type": "code",
   "execution_count": 48,
   "metadata": {},
   "outputs": [
    {
     "data": {
      "text/plain": [
       "(0.2734375, 0.334375, 0.6396484375, 0.615625)"
      ]
     },
     "execution_count": 48,
     "metadata": {},
     "output_type": "execute_result"
    }
   ],
   "source": [
    "startX, startY, endX, endY\n"
   ]
  },
  {
   "cell_type": "code",
   "execution_count": 49,
   "metadata": {},
   "outputs": [],
   "source": [
    "startX = int(float(startX) * w)\n",
    "startY = int(float(startY) * h)\n",
    "endX = int(float(endX) * w)\n",
    "endY = int(float(endY) * h)"
   ]
  },
  {
   "cell_type": "code",
   "execution_count": 50,
   "metadata": {},
   "outputs": [
    {
     "name": "stdout",
     "output_type": "stream",
     "text": [
      "Coordinates: (280, 428) to (655, 788)\n"
     ]
    }
   ],
   "source": [
    "print(f\"Coordinates: ({startX}, {startY}) to ({endX}, {endY})\")"
   ]
  },
  {
   "cell_type": "code",
   "execution_count": 53,
   "metadata": {},
   "outputs": [
    {
     "data": {
      "text/plain": [
       "['h2213nj_1.jpg',\n",
       " 'h2213nj_2.jpg',\n",
       " 'h2213nj_3.jpg',\n",
       " 'h2213nj_4.jpg',\n",
       " 'h2213nj_5.jpg',\n",
       " 'h2213nj_6.jpg',\n",
       " 'h2213nj_7.jpg',\n",
       " 'h2213nj_8.jpg',\n",
       " 'h2213nj_9.jpg',\n",
       " 'h5560yq_1.jpg',\n",
       " 'h5560yq_2.jpg',\n",
       " 'h6314wi_1.jpg',\n",
       " 'h6314wi_2.jpg',\n",
       " 'h6314wi_3.jpg',\n",
       " 'h6314wi_4.jpg',\n",
       " 'h6314wi_4_crop.jpg',\n",
       " 'h6314wi_5.jpg',\n",
       " 'h6314wi_6.jpg',\n",
       " 'h6314wi_7.jpg',\n",
       " 'h6314wi_8.jpg',\n",
       " 'h6379nw_1.jpg',\n",
       " 'h6379nw_2.jpg',\n",
       " 'h6176ol_1.jpg',\n",
       " 'h6176ol_2.jpg',\n",
       " 'h6176ol_3.jpg',\n",
       " 'h6176ol_4.jpg']"
      ]
     },
     "execution_count": 53,
     "metadata": {},
     "output_type": "execute_result"
    }
   ],
   "source": [
    "filenames"
   ]
  },
  {
   "cell_type": "code",
   "execution_count": 54,
   "metadata": {},
   "outputs": [
    {
     "data": {
      "text/plain": [
       "array([[[213., 236., 156.],\n",
       "        [213., 236., 156.],\n",
       "        [213., 236., 154.],\n",
       "        ...,\n",
       "        [ 77., 124., 104.],\n",
       "        [ 65., 114.,  84.],\n",
       "        [ 57., 110.,  92.]],\n",
       "\n",
       "       [[213., 236., 156.],\n",
       "        [212., 235., 155.],\n",
       "        [214., 237., 157.],\n",
       "        ...,\n",
       "        [ 60., 109.,  87.],\n",
       "        [ 59., 104.,  84.],\n",
       "        [131., 186., 167.]],\n",
       "\n",
       "       [[214., 238., 154.],\n",
       "        [213., 237., 153.],\n",
       "        [214., 238., 154.],\n",
       "        ...,\n",
       "        [ 60., 110.,  81.],\n",
       "        [ 59., 108.,  87.],\n",
       "        [145., 207., 186.]],\n",
       "\n",
       "       ...,\n",
       "\n",
       "       [[168., 142., 115.],\n",
       "        [166., 140., 113.],\n",
       "        [159., 134., 104.],\n",
       "        ...,\n",
       "        [174., 155., 141.],\n",
       "        [195., 173., 160.],\n",
       "        [166., 140., 125.]],\n",
       "\n",
       "       [[168., 142., 115.],\n",
       "        [165., 139., 112.],\n",
       "        [152., 127.,  97.],\n",
       "        ...,\n",
       "        [177., 154., 136.],\n",
       "        [178., 160., 146.],\n",
       "        [186., 165., 148.]],\n",
       "\n",
       "       [[160., 133., 104.],\n",
       "        [166., 143., 112.],\n",
       "        [169., 146., 115.],\n",
       "        ...,\n",
       "        [179., 156., 140.],\n",
       "        [182., 159., 145.],\n",
       "        [181., 158., 144.]]], dtype=float32)"
      ]
     },
     "execution_count": 54,
     "metadata": {},
     "output_type": "execute_result"
    }
   ],
   "source": [
    "image"
   ]
  },
  {
   "cell_type": "code",
   "execution_count": 55,
   "metadata": {},
   "outputs": [
    {
     "name": "stdout",
     "output_type": "stream",
     "text": [
      "[INFO] saving testing filenames...\n"
     ]
    }
   ],
   "source": [
    "# convert the data and targets to NumPy arrays, scaling the input\n",
    "# pixel intensities from the range [0, 255] to [0, 1]\n",
    "data = np.array(data, dtype=\"float32\") / 255.0\n",
    "targets = np.array(targets, dtype=\"float32\")\n",
    "\n",
    "# partition the data into training and testing splits using 90% of\n",
    "# the data for training and the remaining 10% for testing\n",
    "split = train_test_split(data, targets, filenames, test_size=0.1)\n",
    "\n",
    "# unpack the data split\n",
    "(trainImages, testImages) = split[:2]\n",
    "(trainTargets, testTargets) = split[2:4]\n",
    "(trainFilenames, testFilenames) = split[4:]\n",
    "\n",
    "# write the testing filenames to disk so that we can use then\n",
    "# when evaluating/testing our bounding box regressor\n",
    "print(\"[INFO] saving testing filenames...\")\n",
    "f = open(config.TEST_FILENAMES, \"w\")\n",
    "f.write(\"\\n\".join(testFilenames))\n",
    "f.close()"
   ]
  },
  {
   "cell_type": "code",
   "execution_count": 56,
   "metadata": {},
   "outputs": [],
   "source": [
    "# load the VGG16 network, ensuring the head FC layers are left off\n",
    "vgg = VGG16(weights=\"imagenet\", include_top=False,\n",
    "\tinput_tensor=Input(shape=(224, 224, 3)))\n",
    "\n",
    "# freeze all VGG layers so they will *not* be updated during the\n",
    "# training process\n",
    "vgg.trainable = False\n",
    "\n",
    "# flatten the max-pooling output of VGG\n",
    "flatten = vgg.output\n",
    "flatten = Flatten()(flatten)\n",
    "\n",
    "# construct a fully-connected layer header to output the predicted\n",
    "# bounding box coordinates\n",
    "bboxHead = Dense(128, activation=\"relu\")(flatten)\n",
    "bboxHead = Dense(64, activation=\"relu\")(bboxHead)\n",
    "bboxHead = Dense(32, activation=\"relu\")(bboxHead)\n",
    "bboxHead = Dense(4, activation=\"sigmoid\")(bboxHead)\n",
    "\n",
    "# construct the model we will fine-tune for bounding box regression\n",
    "model = Model(inputs=vgg.input, outputs=bboxHead)"
   ]
  },
  {
   "cell_type": "code",
   "execution_count": 57,
   "metadata": {},
   "outputs": [
    {
     "name": "stderr",
     "output_type": "stream",
     "text": [
      "WARNING:absl:`lr` is deprecated in Keras optimizer, please use `learning_rate` or use the legacy optimizer, e.g.,tf.keras.optimizers.legacy.Adam.\n"
     ]
    },
    {
     "name": "stdout",
     "output_type": "stream",
     "text": [
      "Model: \"model_3\"\n",
      "_________________________________________________________________\n",
      " Layer (type)                Output Shape              Param #   \n",
      "=================================================================\n",
      " input_4 (InputLayer)        [(None, 224, 224, 3)]     0         \n",
      "                                                                 \n",
      " block1_conv1 (Conv2D)       (None, 224, 224, 64)      1792      \n",
      "                                                                 \n",
      " block1_conv2 (Conv2D)       (None, 224, 224, 64)      36928     \n",
      "                                                                 \n",
      " block1_pool (MaxPooling2D)  (None, 112, 112, 64)      0         \n",
      "                                                                 \n",
      " block2_conv1 (Conv2D)       (None, 112, 112, 128)     73856     \n",
      "                                                                 \n",
      " block2_conv2 (Conv2D)       (None, 112, 112, 128)     147584    \n",
      "                                                                 \n",
      " block2_pool (MaxPooling2D)  (None, 56, 56, 128)       0         \n",
      "                                                                 \n",
      " block3_conv1 (Conv2D)       (None, 56, 56, 256)       295168    \n",
      "                                                                 \n",
      " block3_conv2 (Conv2D)       (None, 56, 56, 256)       590080    \n",
      "                                                                 \n",
      " block3_conv3 (Conv2D)       (None, 56, 56, 256)       590080    \n",
      "                                                                 \n",
      " block3_pool (MaxPooling2D)  (None, 28, 28, 256)       0         \n",
      "                                                                 \n",
      " block4_conv1 (Conv2D)       (None, 28, 28, 512)       1180160   \n",
      "                                                                 \n",
      " block4_conv2 (Conv2D)       (None, 28, 28, 512)       2359808   \n",
      "                                                                 \n",
      " block4_conv3 (Conv2D)       (None, 28, 28, 512)       2359808   \n",
      "                                                                 \n",
      " block4_pool (MaxPooling2D)  (None, 14, 14, 512)       0         \n",
      "                                                                 \n",
      " block5_conv1 (Conv2D)       (None, 14, 14, 512)       2359808   \n",
      "                                                                 \n",
      " block5_conv2 (Conv2D)       (None, 14, 14, 512)       2359808   \n",
      "                                                                 \n",
      " block5_conv3 (Conv2D)       (None, 14, 14, 512)       2359808   \n",
      "                                                                 \n",
      " block5_pool (MaxPooling2D)  (None, 7, 7, 512)         0         \n",
      "                                                                 \n",
      " flatten_3 (Flatten)         (None, 25088)             0         \n",
      "                                                                 \n",
      " dense_12 (Dense)            (None, 128)               3211392   \n",
      "                                                                 \n",
      " dense_13 (Dense)            (None, 64)                8256      \n",
      "                                                                 \n",
      " dense_14 (Dense)            (None, 32)                2080      \n",
      "                                                                 \n",
      " dense_15 (Dense)            (None, 4)                 132       \n",
      "                                                                 \n",
      "=================================================================\n",
      "Total params: 17936548 (68.42 MB)\n",
      "Trainable params: 3221860 (12.29 MB)\n",
      "Non-trainable params: 14714688 (56.13 MB)\n",
      "_________________________________________________________________\n",
      "None\n",
      "[INFO] training bounding box regressor...\n",
      "Epoch 1/25\n",
      "1/1 [==============================] - 8s 8s/step - loss: 0.0846 - val_loss: 0.0261\n",
      "Epoch 2/25\n",
      "1/1 [==============================] - 6s 6s/step - loss: 0.0216 - val_loss: 0.0463\n",
      "Epoch 3/25\n",
      "1/1 [==============================] - 6s 6s/step - loss: 0.0685 - val_loss: 0.0594\n",
      "Epoch 4/25\n",
      "1/1 [==============================] - 6s 6s/step - loss: 0.0664 - val_loss: 0.1161\n",
      "Epoch 5/25\n",
      "1/1 [==============================] - 6s 6s/step - loss: 0.1588 - val_loss: 0.0838\n",
      "Epoch 6/25\n",
      "1/1 [==============================] - 5s 5s/step - loss: 0.0667 - val_loss: 0.0871\n",
      "Epoch 7/25\n",
      "1/1 [==============================] - 5s 5s/step - loss: 0.0734 - val_loss: 0.1285\n",
      "Epoch 8/25\n",
      "1/1 [==============================] - 6s 6s/step - loss: 0.0838 - val_loss: 0.1525\n",
      "Epoch 9/25\n",
      "1/1 [==============================] - 7s 7s/step - loss: 0.0948 - val_loss: 0.1358\n",
      "Epoch 10/25\n",
      "1/1 [==============================] - 6s 6s/step - loss: 0.0862 - val_loss: 0.1051\n",
      "Epoch 11/25\n",
      "1/1 [==============================] - 5s 5s/step - loss: 0.0829 - val_loss: 0.1063\n",
      "Epoch 12/25\n",
      "1/1 [==============================] - 5s 5s/step - loss: 0.0852 - val_loss: 0.1068\n",
      "Epoch 13/25\n",
      "1/1 [==============================] - 5s 5s/step - loss: 0.0845 - val_loss: 0.1064\n",
      "Epoch 14/25\n",
      "1/1 [==============================] - 5s 5s/step - loss: 0.0812 - val_loss: 0.1084\n",
      "Epoch 15/25\n",
      "1/1 [==============================] - 5s 5s/step - loss: 0.0785 - val_loss: 0.1128\n",
      "Epoch 16/25\n",
      "1/1 [==============================] - 5s 5s/step - loss: 0.0781 - val_loss: 0.1142\n",
      "Epoch 17/25\n",
      "1/1 [==============================] - 5s 5s/step - loss: 0.0778 - val_loss: 0.1103\n",
      "Epoch 18/25\n",
      "1/1 [==============================] - 5s 5s/step - loss: 0.0754 - val_loss: 0.1069\n",
      "Epoch 19/25\n",
      "1/1 [==============================] - 5s 5s/step - loss: 0.0738 - val_loss: 0.1064\n",
      "Epoch 20/25\n",
      "1/1 [==============================] - 5s 5s/step - loss: 0.0742 - val_loss: 0.1061\n",
      "Epoch 21/25\n",
      "1/1 [==============================] - 5s 5s/step - loss: 0.0737 - val_loss: 0.1057\n",
      "Epoch 22/25\n",
      "1/1 [==============================] - 6s 6s/step - loss: 0.0718 - val_loss: 0.1069\n",
      "Epoch 23/25\n",
      "1/1 [==============================] - 6s 6s/step - loss: 0.0716 - val_loss: 0.1073\n",
      "Epoch 24/25\n",
      "1/1 [==============================] - 6s 6s/step - loss: 0.0717 - val_loss: 0.1046\n",
      "Epoch 25/25\n",
      "1/1 [==============================] - 5s 5s/step - loss: 0.0698 - val_loss: 0.1014\n"
     ]
    }
   ],
   "source": [
    "# initialize the optimizer, compile the model, and show the model\n",
    "# summary\n",
    "opt = Adam(lr=config.INIT_LR)\n",
    "model.compile(loss=\"mse\", optimizer=opt)\n",
    "print(model.summary())\n",
    "\n",
    "# train the network for bounding box regression\n",
    "print(\"[INFO] training bounding box regressor...\")\n",
    "H = model.fit(\n",
    "\ttrainImages, trainTargets,\n",
    "\tvalidation_data=(testImages, testTargets),\n",
    "\tbatch_size=config.BATCH_SIZE,\n",
    "\tepochs=config.NUM_EPOCHS,\n",
    "\tverbose=1)"
   ]
  },
  {
   "cell_type": "code",
   "execution_count": 58,
   "metadata": {},
   "outputs": [
    {
     "name": "stdout",
     "output_type": "stream",
     "text": [
      "[INFO] saving object detector model...\n"
     ]
    },
    {
     "name": "stderr",
     "output_type": "stream",
     "text": [
      "c:\\Users\\ravin\\AppData\\Local\\Programs\\Python\\Python38\\lib\\site-packages\\keras\\src\\engine\\training.py:3000: UserWarning: You are saving your model as an HDF5 file via `model.save()`. This file format is considered legacy. We recommend using instead the native Keras format, e.g. `model.save('my_model.keras')`.\n",
      "  saving_api.save_model(\n"
     ]
    },
    {
     "data": {
      "image/png": "[encoded data removed]",
      "text/plain": [
       "<Figure size 640x480 with 1 Axes>"
      ]
     },
     "metadata": {},
     "output_type": "display_data"
    }
   ],
   "source": [
    "# serialize the model to disk\n",
    "print(\"[INFO] saving object detector model...\")\n",
    "model.save(config.MODEL_PATH, save_format=\"h5\")\n",
    "\n",
    "# plot the model training history\n",
    "N = config.NUM_EPOCHS\n",
    "plt.style.use(\"ggplot\")\n",
    "plt.figure()\n",
    "plt.plot(np.arange(0, N), H.history[\"loss\"], label=\"train_loss\")\n",
    "plt.plot(np.arange(0, N), H.history[\"val_loss\"], label=\"val_loss\")\n",
    "plt.title(\"Bounding Box Regression Loss on Training Set\")\n",
    "plt.xlabel(\"Epoch #\")\n",
    "plt.ylabel(\"Loss\")\n",
    "plt.legend(loc=\"lower left\")\n",
    "plt.savefig(config.PLOT_PATH)"
   ]
  }
 ],
 "metadata": {
  "kernelspec": {
   "display_name": "Python 3",
   "language": "python",
   "name": "python3"
  },
  "language_info": {
   "codemirror_mode": {
    "name": "ipython",
    "version": 3
   },
   "file_extension": ".py",
   "mimetype": "text/x-python",
   "name": "python",
   "nbconvert_exporter": "python",
   "pygments_lexer": "ipython3",
   "version": "3.8.0"
  },
  "orig_nbformat": 4
 },
 "nbformat": 4,
 "nbformat_minor": 2
}
